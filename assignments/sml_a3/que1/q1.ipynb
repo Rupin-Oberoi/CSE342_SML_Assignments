{
 "cells": [
  {
   "cell_type": "code",
   "execution_count": 61,
   "metadata": {},
   "outputs": [],
   "source": [
    "import pickle\n",
    "import matplotlib.pyplot as plt\n",
    "import numpy as np\n",
    "import sklearn"
   ]
  },
  {
   "cell_type": "code",
   "execution_count": 62,
   "metadata": {},
   "outputs": [],
   "source": [
    "def unpickle(file):\n",
    "    with open(file, 'rb') as fo:\n",
    "        dict = pickle.load(fo, encoding='bytes')\n",
    "    return dict"
   ]
  },
  {
   "cell_type": "code",
   "execution_count": 63,
   "metadata": {},
   "outputs": [],
   "source": [
    "dict1 = unpickle('cifar-10-batches-py/data_batch_1')"
   ]
  },
  {
   "cell_type": "code",
   "execution_count": 64,
   "metadata": {},
   "outputs": [],
   "source": [
    "def rgb_separation(arr,i):\n",
    "    col_arr = arr[i] #to get ith image\n",
    "    len1 = len(col_arr)\n",
    "    rarr, garr, barr = [], [],[]\n",
    "    for i in range(int(len1/3)):\n",
    "        rarr.append(col_arr[i])\n",
    "    for i in range(int(len1/3), int(2*len1/3)):\n",
    "        garr.append(col_arr[i])\n",
    "    for i in range(int(2*len1/3), len1):\n",
    "        barr.append(col_arr[i])\n",
    "    return rarr, garr, barr\n",
    "    "
   ]
  },
  {
   "cell_type": "code",
   "execution_count": 65,
   "metadata": {},
   "outputs": [],
   "source": [
    "def rgb_unification(rarr1, garr1, barr1):\n",
    "    image = []\n",
    "    for i in range(len(rarr1)):\n",
    "        image.append(rarr1[i])\n",
    "        image.append(garr1[i])\n",
    "        image.append(barr1[i])\n",
    "    image = np.reshape(image,(32,32,3))\n",
    "    return image"
   ]
  },
  {
   "cell_type": "code",
   "execution_count": 66,
   "metadata": {},
   "outputs": [
    {
     "data": {
      "image/png": "[encoded data removed]",
      "text/plain": [
       "<Figure size 288x288 with 1 Axes>"
      ]
     },
     "metadata": {
      "needs_background": "light"
     },
     "output_type": "display_data"
    }
   ],
   "source": [
    "images = dict1[b'data']\n",
    "rarr0, garr0, barr0 = rgb_separation(images,9)\n",
    "image0 = rgb_unification(rarr0, garr0, barr0)\n",
    "plt.matshow(image0)\n",
    "plt.show()"
   ]
  },
  {
   "cell_type": "code",
   "execution_count": 67,
   "metadata": {},
   "outputs": [
    {
     "name": "stdout",
     "output_type": "stream",
     "text": [
      "[[29, 30, 35, 49, 77], [4, 5, 32, 44, 45], [6, 13, 18, 24, 41], [9, 17, 21, 26, 33], [3, 10, 20, 28, 34], [27, 40, 51, 56, 70], [19, 22, 23, 25, 72], [7, 11, 12, 37, 43], [8, 62, 69, 92, 100], [1, 2, 14, 15, 16]]\n"
     ]
    }
   ],
   "source": [
    "image_index_list = []\n",
    "for i in range(10):\n",
    "    image_index_list.append([])\n",
    "for i in range(10):\n",
    "    prev = 0\n",
    "    for j in range(5):\n",
    "        for k in range(prev+1, len(dict1[b'labels'])):\n",
    "            if (dict1[b'labels'][k]==i):\n",
    "                j+=1\n",
    "                image_index_list[i].append(k)\n",
    "                prev = k\n",
    "                break\n",
    "print(image_index_list)"
   ]
  },
  {
   "cell_type": "code",
   "execution_count": 68,
   "metadata": {},
   "outputs": [],
   "source": [
    "for i in range(10):\n",
    "    for j in range(5):\n",
    "        images = dict1[b'data']\n",
    "        rarr0, garr0, barr0 = rgb_separation(images,image_index_list[i][j])\n",
    "        image0 = rgb_unification(rarr0, garr0, barr0)\n",
    "        #plt.matshow(image0)\n",
    "        #plt.show()"
   ]
  },
  {
   "cell_type": "code",
   "execution_count": 69,
   "metadata": {},
   "outputs": [],
   "source": [
    "from sklearn.discriminant_analysis import LinearDiscriminantAnalysis"
   ]
  },
  {
   "cell_type": "code",
   "execution_count": 70,
   "metadata": {},
   "outputs": [
    {
     "name": "stdout",
     "output_type": "stream",
     "text": [
      "[9 8]\n"
     ]
    }
   ],
   "source": [
    "x = np.array(dict1[b'data'])\n",
    "y = np.array(dict1[b'labels'])\n",
    "clf = LinearDiscriminantAnalysis()\n",
    "clf.fit(x,y)\n",
    "print(clf.predict([dict1[b'data'][2], dict1[b'data'][4]]))"
   ]
  },
  {
   "cell_type": "code",
   "execution_count": null,
   "metadata": {},
   "outputs": [],
   "source": []
  }
 ],
 "metadata": {
  "kernelspec": {
   "display_name": "Python 3",
   "language": "python",
   "name": "python3"
  },
  "language_info": {
   "codemirror_mode": {
    "name": "ipython",
    "version": 3
   },
   "file_extension": ".py",
   "mimetype": "text/x-python",
   "name": "python",
   "nbconvert_exporter": "python",
   "pygments_lexer": "ipython3",
   "version": "3.8.5"
  }
 },
 "nbformat": 4,
 "nbformat_minor": 4
}
