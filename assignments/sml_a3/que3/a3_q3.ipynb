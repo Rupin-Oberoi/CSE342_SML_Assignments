{
  "nbformat": 4,
  "nbformat_minor": 0,
  "metadata": {
    "colab": {
      "name": "a3_q3.ipynb",
      "provenance": []
    },
    "kernelspec": {
      "name": "python3",
      "display_name": "Python 3"
    },
    "language_info": {
      "name": "python"
    }
  },
  "cells": [
    {
      "cell_type": "code",
      "execution_count": 93,
      "metadata": {
        "id": "gaIky1gFNXob"
      },
      "outputs": [],
      "source": [
        "import numpy as np\n",
        "import matplotlib.pyplot as plt\n",
        "import pandas as pd\n",
        "import sklearn\n",
        "import csv\n",
        "from sklearn.discriminant_analysis import LinearDiscriminantAnalysis as LDA"
      ]
    },
    {
      "cell_type": "code",
      "source": [
        "labels = []\n",
        "with open('/content/fashion-mnist_train.csv', newline = '') as f:\n",
        "  reader = csv.reader(f)\n",
        "  rows = list(reader)\n",
        "  del rows[:1]\n",
        "  rows = np.array(rows)\n",
        "  for row in rows:\n",
        "    labels.append(int(row[0]))"
      ],
      "metadata": {
        "id": "PVzv_8TDOIaY"
      },
      "execution_count": 94,
      "outputs": []
    },
    {
      "cell_type": "code",
      "source": [
        "x= []\n",
        "for row in rows:\n",
        "  x.append(row[1:])"
      ],
      "metadata": {
        "id": "Ea05L6r77DmL"
      },
      "execution_count": 95,
      "outputs": []
    },
    {
      "cell_type": "code",
      "source": [
        "classwise = []\n",
        "for i in range(len(np.unique(labels))):\n",
        "  mid = []\n",
        "  for j in range(len(labels)):\n",
        "    if (labels[j]==i):\n",
        "      mid.append(list(map(int, rows[j][1:])))\n",
        "  classwise.append(mid)\n",
        "classwise = np.array(classwise)"
      ],
      "metadata": {
        "id": "mzND3IkxA-JP"
      },
      "execution_count": 96,
      "outputs": []
    },
    {
      "cell_type": "code",
      "source": [
        "#global variables\n",
        "num_pixel = len(rows[0])-1\n",
        "num_class = len(classwise)"
      ],
      "metadata": {
        "id": "UIylrO9QiEnm"
      },
      "execution_count": 97,
      "outputs": []
    },
    {
      "cell_type": "code",
      "source": [
        "means = []\n",
        "for i in range(num_class):\n",
        "  means.append(np.mean(classwise[i], axis=0))"
      ],
      "metadata": {
        "id": "lTjwXWwnO1JB"
      },
      "execution_count": 98,
      "outputs": []
    },
    {
      "cell_type": "code",
      "source": [
        "wscatters = [] #within class scatters\n",
        "for i in range(num_class):\n",
        "  sum = [[0]*num_pixel for j in range(num_pixel)]\n",
        "  for j in range(len(classwise[i])):\n",
        "    sum+=np.matmul(np.transpose(classwise[i][j]- means[i]), classwise[i][j]- means[i])\n",
        "  wscatters.append(sum)"
      ],
      "metadata": {
        "id": "0Al1VePGSLYU"
      },
      "execution_count": 99,
      "outputs": []
    },
    {
      "cell_type": "code",
      "source": [
        "sw = wscatters[0]\n",
        "for i in range(1,num_class):\n",
        "  sw+=wscatters[i]"
      ],
      "metadata": {
        "id": "T8Zho2FPT3CG"
      },
      "execution_count": 100,
      "outputs": []
    },
    {
      "cell_type": "code",
      "source": [
        "big_mean = np.mean(classwise, axis=(0,1))\n"
      ],
      "metadata": {
        "id": "dMpsJ_3WescB"
      },
      "execution_count": 101,
      "outputs": []
    },
    {
      "cell_type": "code",
      "source": [
        "sb = [[0]*num_pixel for i in range(num_pixel)]\n",
        "for i in range(num_class):\n",
        "  sb+=len(classwise[i])*np.matmul(np.transpose(means[i]-big_mean),means[i]-big_mean)"
      ],
      "metadata": {
        "id": "okl5yoDDWfCp"
      },
      "execution_count": 102,
      "outputs": []
    },
    {
      "cell_type": "code",
      "source": [
        "mat = np.matmul(np.linalg.pinv(sw),sb)"
      ],
      "metadata": {
        "id": "R55oCsH7m5El"
      },
      "execution_count": 103,
      "outputs": []
    },
    {
      "cell_type": "code",
      "source": [
        "val, vec = np.linalg.eigh(mat)\n",
        "idx = val.argsort()[-100:][::-1]\n",
        "val = val[idx]\n",
        "vec = vec[idx]\n",
        "w = vec"
      ],
      "metadata": {
        "id": "NlG-Be7f4hHW"
      },
      "execution_count": 126,
      "outputs": []
    },
    {
      "cell_type": "code",
      "source": [
        "y = []\n",
        "for xi in x:\n",
        "  xi = np.transpose(xi)\n",
        "  xi = np.asarray(xi, dtype='float64')\n",
        "  y.append(np.transpose((np.matmul(w, xi))))"
      ],
      "metadata": {
        "id": "tqPLa2jsFN7b"
      },
      "execution_count": 127,
      "outputs": []
    },
    {
      "cell_type": "code",
      "source": [
        "test_labels = []\n",
        "with open('/content/fashion-mnist_test.csv', newline = '') as f:\n",
        "  reader = csv.reader(f)\n",
        "  rows = list(reader)\n",
        "  del rows[:1]\n",
        "  rows = np.array(rows)\n",
        "  for row in rows:\n",
        "    test_labels.append(int(row[0]))"
      ],
      "metadata": {
        "id": "r3GbRMEFKlcG"
      },
      "execution_count": 128,
      "outputs": []
    },
    {
      "cell_type": "code",
      "source": [
        "x_test= []\n",
        "for row in rows:\n",
        "  x_test.append(row[1:])\n",
        "y_test = []\n",
        "for xi in x_test:\n",
        "  xi = np.transpose(xi)\n",
        "  xi = np.asarray(xi, dtype='float64')\n",
        "  y_test.append(np.transpose(np.matmul(w, xi)))"
      ],
      "metadata": {
        "id": "9WWZm1S_KsHl"
      },
      "execution_count": 129,
      "outputs": []
    },
    {
      "cell_type": "code",
      "source": [
        "clf = LDA()\n",
        "clf.fit(y, labels)"
      ],
      "metadata": {
        "colab": {
          "base_uri": "https://localhost:8080/"
        },
        "id": "r4XARuFQIPKC",
        "outputId": "f5f3f8ff-b07b-4334-e5cc-4be2936fa25e"
      },
      "execution_count": 130,
      "outputs": [
        {
          "output_type": "execute_result",
          "data": {
            "text/plain": [
              "LinearDiscriminantAnalysis()"
            ]
          },
          "metadata": {},
          "execution_count": 130
        }
      ]
    },
    {
      "cell_type": "code",
      "source": [
        "pred = clf.predict(y_test)"
      ],
      "metadata": {
        "id": "9xkOggd7LmX_"
      },
      "execution_count": 131,
      "outputs": []
    },
    {
      "cell_type": "code",
      "source": [
        "correct = 0\n",
        "incorrect = 0\n",
        "for i in range(len(pred)):\n",
        "  if (pred[i]==test_labels[i]):\n",
        "    correct+=1\n",
        "  else:\n",
        "    incorrect+=1\n",
        "print(\"Accuracy = \"+ str(correct*100/(correct+incorrect)))"
      ],
      "metadata": {
        "colab": {
          "base_uri": "https://localhost:8080/"
        },
        "id": "IyQE5LqEL1Pa",
        "outputId": "e94bf397-7833-47eb-c343-c954a8939ccd"
      },
      "execution_count": 132,
      "outputs": [
        {
          "output_type": "stream",
          "name": "stdout",
          "text": [
            "Accuracy = 79.11\n"
          ]
        }
      ]
    },
    {
      "cell_type": "code",
      "source": [
        "for i in range(num_class):\n",
        "  correct = 0\n",
        "  incorrect = 0\n",
        "  for j in range(len(pred)):\n",
        "    if (test_labels[j] == i and pred[j]==test_labels[j]):\n",
        "      correct+=1\n",
        "    elif (test_labels[j] == i):\n",
        "      incorrect+=1\n",
        "  print(\"Accuracy of class \"+str(i)+\" = \"+str(correct*100/(correct+incorrect)))"
      ],
      "metadata": {
        "colab": {
          "base_uri": "https://localhost:8080/"
        },
        "id": "uQcEz-dOaK3A",
        "outputId": "6c3e1ce8-7b6e-4b29-996f-8ec2bf378f1a"
      },
      "execution_count": 133,
      "outputs": [
        {
          "output_type": "stream",
          "name": "stdout",
          "text": [
            "Accuracy of class 0 = 75.2\n",
            "Accuracy of class 1 = 90.7\n",
            "Accuracy of class 2 = 66.5\n",
            "Accuracy of class 3 = 85.9\n",
            "Accuracy of class 4 = 74.8\n",
            "Accuracy of class 5 = 86.1\n",
            "Accuracy of class 6 = 51.7\n",
            "Accuracy of class 7 = 80.4\n",
            "Accuracy of class 8 = 88.7\n",
            "Accuracy of class 9 = 91.1\n"
          ]
        }
      ]
    }
  ]
}