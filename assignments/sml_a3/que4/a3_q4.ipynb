{
  "cells": [
    {
      "cell_type": "code",
      "execution_count": 105,
      "metadata": {
        "colab": {
          "base_uri": "https://localhost:8080/"
        },
        "id": "S7cR2O06bEur",
        "outputId": "86c41c68-4da8-4648-a4f0-284d26dc3a7a"
      },
      "outputs": [
        {
          "output_type": "stream",
          "name": "stdout",
          "text": [
            "Requirement already satisfied: idx2numpy in /usr/local/lib/python3.7/dist-packages (1.2.3)\n",
            "Requirement already satisfied: numpy in /usr/local/lib/python3.7/dist-packages (from idx2numpy) (1.21.5)\n",
            "Requirement already satisfied: six in /usr/local/lib/python3.7/dist-packages (from idx2numpy) (1.15.0)\n"
          ]
        }
      ],
      "source": [
        "import numpy as np\n",
        "import matplotlib.pyplot as plt\n",
        "import pandas as pd\n",
        "import sklearn\n",
        "import csv\n",
        "from sklearn.discriminant_analysis import LinearDiscriminantAnalysis as LDA\n",
        "from sklearn.decomposition import PCA\n",
        "!pip3 install idx2numpy\n",
        "import idx2numpy"
      ]
    },
    {
      "cell_type": "code",
      "execution_count": 106,
      "metadata": {
        "id": "EOklkPYPfs9U"
      },
      "outputs": [],
      "source": [
        "arr_img = idx2numpy.convert_from_file('/content/train-images.idx3-ubyte')\n",
        "arr_labels = idx2numpy.convert_from_file('/content/train-labels.idx1-ubyte')\n",
        "arr_img = np.reshape(arr_img, (60000, 784))"
      ]
    },
    {
      "cell_type": "code",
      "execution_count": 107,
      "metadata": {
        "colab": {
          "base_uri": "https://localhost:8080/"
        },
        "id": "qKGCzH8L90kb",
        "outputId": "671bca3e-bf16-4212-9a73-17097958bbd6"
      },
      "outputs": [
        {
          "output_type": "execute_result",
          "data": {
            "text/plain": [
              "PCA(n_components=15)"
            ]
          },
          "metadata": {},
          "execution_count": 107
        }
      ],
      "source": [
        "pca15 = PCA(n_components=15)\n",
        "pca15.fit(arr_img)"
      ]
    },
    {
      "cell_type": "code",
      "execution_count": 108,
      "metadata": {
        "colab": {
          "base_uri": "https://localhost:8080/"
        },
        "id": "dYns7W2W-IgD",
        "outputId": "03940f9f-1953-419c-c39d-68b4b9454d80"
      },
      "outputs": [
        {
          "output_type": "stream",
          "name": "stdout",
          "text": [
            "[ 123.93258849 -312.67425848  -24.51404645 -555.75794895  -27.29673749\n",
            " -232.47615477  233.99511676  159.8109179  -363.52338563  198.44334755\n",
            "  197.47539601 -253.98464895 -113.72005345  749.24721568  218.3974841 ]\n"
          ]
        }
      ],
      "source": [
        "arr_trans = pca15.transform(arr_img)\n",
        "print((arr_trans[0]))"
      ]
    },
    {
      "cell_type": "code",
      "execution_count": 112,
      "metadata": {
        "id": "Wvc1xBte-aI9"
      },
      "outputs": [],
      "source": [
        "classwise = []\n",
        "for i in range(len(np.unique(arr_labels))):\n",
        "  mid = []\n",
        "  for j in range(len(arr_labels)):\n",
        "    if (arr_labels[j]==i):\n",
        "      mid.append(list((arr_trans[j])))\n",
        "  classwise.append(mid)"
      ]
    },
    {
      "cell_type": "code",
      "execution_count": 113,
      "metadata": {
        "id": "LF-jNsEjF4hG"
      },
      "outputs": [],
      "source": [
        "#global variables for better readability\n",
        "num_class = len(classwise)\n",
        "num_pixels = len(classwise[0][0])"
      ]
    },
    {
      "cell_type": "code",
      "execution_count": 114,
      "metadata": {
        "id": "-kPwfoomFt5w"
      },
      "outputs": [],
      "source": [
        "means = []\n",
        "for i in range(num_class):\n",
        "  means.append(np.mean(classwise[i], axis = 0))"
      ]
    },
    {
      "cell_type": "code",
      "execution_count": 115,
      "metadata": {
        "id": "6PyncsGzHFAT"
      },
      "outputs": [],
      "source": [
        "wscatters = []\n",
        "for i in range(num_class):\n",
        "  sum = [[0]*num_pixels for j in range(num_pixels)]\n",
        "  for j in range(len(classwise[i])):\n",
        "    sum+= np.matmul(np.transpose(means[i] - classwise[i][j]),means[i] - classwise[i][j])\n",
        "  wscatters.append(sum)"
      ]
    },
    {
      "cell_type": "code",
      "execution_count": 116,
      "metadata": {
        "id": "eeZ4u2FIIswB"
      },
      "outputs": [],
      "source": [
        "sw = wscatters[0]\n",
        "for i in range(1, num_class):\n",
        "  sw+=wscatters[i]"
      ]
    },
    {
      "cell_type": "code",
      "execution_count": 153,
      "metadata": {
        "id": "QT7WB9ZsI4aj"
      },
      "outputs": [],
      "source": [
        "big_mean = np.mean(arr_trans, axis=0)"
      ]
    },
    {
      "cell_type": "code",
      "source": [
        "sb = [[0]*num_pixels for i in range(num_pixels)]\n",
        "for i in range(num_class):\n",
        "  sb+=len(classwise[i])*np.matmul(np.transpose(means[i]-big_mean),means[i]-big_mean)"
      ],
      "metadata": {
        "id": "CxdXgYSgZtiH"
      },
      "execution_count": 118,
      "outputs": []
    },
    {
      "cell_type": "code",
      "source": [
        "mat = np.matmul(np.linalg.pinv(sw),sb)"
      ],
      "metadata": {
        "id": "HiAlgzPPZ-FT"
      },
      "execution_count": 121,
      "outputs": []
    },
    {
      "cell_type": "code",
      "source": [
        "val, vec = np.linalg.eigh(mat)\n",
        "idx = val.argsort()[-15:][::-1]\n",
        "val = val[idx]\n",
        "vec = vec[idx]\n",
        "w = vec"
      ],
      "metadata": {
        "id": "JqJ4g1uBaDo0"
      },
      "execution_count": 143,
      "outputs": []
    },
    {
      "cell_type": "code",
      "source": [
        "y = []\n",
        "for xi in arr_trans:\n",
        "  xi = np.transpose(xi)\n",
        "  xi = np.asarray(xi, dtype='float64')\n",
        "  y.append(np.transpose((np.matmul(w, xi))))"
      ],
      "metadata": {
        "id": "h7oNys3baNmk"
      },
      "execution_count": 144,
      "outputs": []
    },
    {
      "cell_type": "code",
      "source": [
        "test_labels = idx2numpy.convert_from_file('/content/t10k-labels.idx1-ubyte')"
      ],
      "metadata": {
        "id": "XKKi-4lnaXwJ"
      },
      "execution_count": 145,
      "outputs": []
    },
    {
      "cell_type": "code",
      "source": [
        "x_test = idx2numpy.convert_from_file('/content/t10k-images.idx3-ubyte')\n",
        "x_test = np.reshape(x_test, (10000, 784))\n",
        "y_test = []\n",
        "x_test = pca15.transform(x_test)\n",
        "for xi in x_test:\n",
        "  xi = np.transpose(xi)\n",
        "  xi = np.asarray(xi, dtype='float64')\n",
        "  y_test.append(np.transpose(np.matmul(w, xi)))"
      ],
      "metadata": {
        "id": "PPjlwArHae2n"
      },
      "execution_count": 146,
      "outputs": []
    },
    {
      "cell_type": "code",
      "source": [
        "clf = LDA()\n",
        "clf.fit(y, arr_labels)"
      ],
      "metadata": {
        "colab": {
          "base_uri": "https://localhost:8080/"
        },
        "id": "bubaaTU1bqAu",
        "outputId": "bd42b45f-4e8d-4d17-e42c-d7acb399760b"
      },
      "execution_count": 147,
      "outputs": [
        {
          "output_type": "execute_result",
          "data": {
            "text/plain": [
              "LinearDiscriminantAnalysis()"
            ]
          },
          "metadata": {},
          "execution_count": 147
        }
      ]
    },
    {
      "cell_type": "code",
      "source": [
        "pred = clf.predict(y_test)"
      ],
      "metadata": {
        "id": "-mjCT9UAb1AF"
      },
      "execution_count": 154,
      "outputs": []
    },
    {
      "cell_type": "code",
      "source": [
        "correct = 0\n",
        "incorrect = 0\n",
        "for i in range(len(pred)):\n",
        "  if (pred[i]==test_labels[i]):\n",
        "    correct+=1\n",
        "  else:\n",
        "    incorrect+=1\n",
        "print(\"Accuracy = \"+ str(correct*100/(correct+incorrect)))"
      ],
      "metadata": {
        "colab": {
          "base_uri": "https://localhost:8080/"
        },
        "id": "n_J4x7f4b-jk",
        "outputId": "a21ce793-59ff-409d-a776-7b9d0745a389"
      },
      "execution_count": 155,
      "outputs": [
        {
          "output_type": "stream",
          "name": "stdout",
          "text": [
            "Accuracy = 80.4\n"
          ]
        }
      ]
    },
    {
      "cell_type": "code",
      "source": [
        "for i in range(num_class):\n",
        "  correct = 0\n",
        "  incorrect = 0\n",
        "  for j in range(len(pred)):\n",
        "    if (test_labels[j] == i and pred[j]==test_labels[j]):\n",
        "      correct+=1\n",
        "    elif (test_labels[j] == i):\n",
        "      incorrect+=1\n",
        "  print(\"Accuracy of class \"+str(i)+\" = \"+str(correct*100/(correct+incorrect)))"
      ],
      "metadata": {
        "colab": {
          "base_uri": "https://localhost:8080/"
        },
        "id": "Nr4r8wdgfM4a",
        "outputId": "f46c4596-4009-421e-8e62-033d2def96f1"
      },
      "execution_count": 156,
      "outputs": [
        {
          "output_type": "stream",
          "name": "stdout",
          "text": [
            "Accuracy of class 0 = 90.3061224489796\n",
            "Accuracy of class 1 = 91.54185022026432\n",
            "Accuracy of class 2 = 73.93410852713178\n",
            "Accuracy of class 3 = 79.3069306930693\n",
            "Accuracy of class 4 = 81.16089613034623\n",
            "Accuracy of class 5 = 64.79820627802691\n",
            "Accuracy of class 6 = 82.6722338204593\n",
            "Accuracy of class 7 = 83.852140077821\n",
            "Accuracy of class 8 = 74.84599589322382\n",
            "Accuracy of class 9 = 78.69177403369673\n"
          ]
        }
      ]
    }
  ],
  "metadata": {
    "colab": {
      "collapsed_sections": [],
      "name": "a3_q4.ipynb",
      "provenance": []
    },
    "kernelspec": {
      "display_name": "Python 3",
      "name": "python3"
    },
    "language_info": {
      "name": "python"
    }
  },
  "nbformat": 4,
  "nbformat_minor": 0
}