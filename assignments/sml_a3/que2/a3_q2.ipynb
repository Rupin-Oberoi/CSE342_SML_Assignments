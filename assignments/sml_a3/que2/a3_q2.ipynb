{
  "nbformat": 4,
  "nbformat_minor": 0,
  "metadata": {
    "colab": {
      "name": "a3_q2.ipynb",
      "provenance": []
    },
    "kernelspec": {
      "name": "python3",
      "display_name": "Python 3"
    },
    "language_info": {
      "name": "python"
    }
  },
  "cells": [
    {
      "cell_type": "code",
      "execution_count": 49,
      "metadata": {
        "colab": {
          "base_uri": "https://localhost:8080/"
        },
        "id": "6F35dULJiD4a",
        "outputId": "a4320266-74a2-4eaf-a40b-2d46790a7e01"
      },
      "outputs": [
        {
          "output_type": "stream",
          "name": "stdout",
          "text": [
            "Requirement already satisfied: idx2numpy in /usr/local/lib/python3.7/dist-packages (1.2.3)\n",
            "Requirement already satisfied: six in /usr/local/lib/python3.7/dist-packages (from idx2numpy) (1.15.0)\n",
            "Requirement already satisfied: numpy in /usr/local/lib/python3.7/dist-packages (from idx2numpy) (1.21.5)\n"
          ]
        }
      ],
      "source": [
        "import numpy as np\n",
        "import cv2\n",
        "import matplotlib.pyplot as plt\n",
        "import sklearn\n",
        "!pip3 install idx2numpy\n",
        "import idx2numpy\n",
        "from sklearn.decomposition import PCA\n",
        "from sklearn.discriminant_analysis import LinearDiscriminantAnalysis as LDA"
      ]
    },
    {
      "cell_type": "code",
      "source": [
        "arr_img = idx2numpy.convert_from_file('/content/train-images.idx3-ubyte')\n",
        "arr_labels = idx2numpy.convert_from_file('/content/train-labels.idx1-ubyte')\n",
        "arr_img= np.reshape(arr_img,(60000, 784))"
      ],
      "metadata": {
        "id": "oPXh_-DbiPEP"
      },
      "execution_count": 66,
      "outputs": []
    },
    {
      "cell_type": "code",
      "source": [
        "pca_15 = PCA(n_components=15)\n",
        "pca_15.fit(arr_img)\n"
      ],
      "metadata": {
        "colab": {
          "base_uri": "https://localhost:8080/"
        },
        "id": "jjbyoOatzSiC",
        "outputId": "4b8391fc-45a2-4d94-bdfc-af2bd69f4a2f"
      },
      "execution_count": 67,
      "outputs": [
        {
          "output_type": "execute_result",
          "data": {
            "text/plain": [
              "PCA(n_components=15)"
            ]
          },
          "metadata": {},
          "execution_count": 67
        }
      ]
    },
    {
      "cell_type": "code",
      "source": [
        "arr1 = pca_15.transform(arr_img)\n",
        "print(len(arr1[0]))"
      ],
      "metadata": {
        "colab": {
          "base_uri": "https://localhost:8080/"
        },
        "id": "LpqiTVJB3MFD",
        "outputId": "bfa3d78d-4e28-46b2-936b-593b6c51bc4c"
      },
      "execution_count": 68,
      "outputs": [
        {
          "output_type": "stream",
          "name": "stdout",
          "text": [
            "15\n"
          ]
        }
      ]
    },
    {
      "cell_type": "code",
      "source": [
        "clf = LDA()\n",
        "clf.fit(arr1, arr_labels)"
      ],
      "metadata": {
        "colab": {
          "base_uri": "https://localhost:8080/"
        },
        "id": "hsuL33EU6ln-",
        "outputId": "f5f779e6-ec8a-44e5-8174-7ce7642c5b6b"
      },
      "execution_count": 69,
      "outputs": [
        {
          "output_type": "execute_result",
          "data": {
            "text/plain": [
              "LinearDiscriminantAnalysis()"
            ]
          },
          "metadata": {},
          "execution_count": 69
        }
      ]
    },
    {
      "cell_type": "code",
      "source": [
        "arr_img_test = idx2numpy.convert_from_file('/content/t10k-images.idx3-ubyte')\n",
        "arr_labels_test = idx2numpy.convert_from_file('/content/t10k-labels.idx1-ubyte')\n",
        "arr_img_test = np.reshape(arr_img_test, (10000, 784))"
      ],
      "metadata": {
        "id": "hRbYeWht7MPX"
      },
      "execution_count": 70,
      "outputs": []
    },
    {
      "cell_type": "code",
      "source": [
        "arr_test = pca_15.transform(arr_img_test)\n",
        "pred = clf.predict(arr_test)"
      ],
      "metadata": {
        "id": "wC45kEmM8A91"
      },
      "execution_count": 71,
      "outputs": []
    },
    {
      "cell_type": "code",
      "source": [
        "correct =0\n",
        "incorrect=0\n",
        "for i in range(len(pred)):\n",
        "  if (pred[i] == arr_labels_test[i]):\n",
        "    correct+=1\n",
        "  else:\n",
        "    incorrect+=1\n",
        "acc_15 = correct*100/(correct+incorrect)\n",
        "print(\"Accuracy = \"+ str(correct*100/(correct+incorrect)))"
      ],
      "metadata": {
        "colab": {
          "base_uri": "https://localhost:8080/"
        },
        "id": "gSq86lkV8jAr",
        "outputId": "1dc8dba1-32bf-4a8f-8682-b7ed91d965cd"
      },
      "execution_count": 72,
      "outputs": [
        {
          "output_type": "stream",
          "name": "stdout",
          "text": [
            "Accuracy = 80.37\n"
          ]
        }
      ]
    },
    {
      "cell_type": "code",
      "source": [
        "pca_8 = PCA(n_components = 8)\n",
        "pca_8.fit(arr_img)"
      ],
      "metadata": {
        "colab": {
          "base_uri": "https://localhost:8080/"
        },
        "id": "Bt00Jz099WF3",
        "outputId": "1d593790-18bd-4341-a12b-49629b6a98e6"
      },
      "execution_count": 73,
      "outputs": [
        {
          "output_type": "execute_result",
          "data": {
            "text/plain": [
              "PCA(n_components=8)"
            ]
          },
          "metadata": {},
          "execution_count": 73
        }
      ]
    },
    {
      "cell_type": "code",
      "source": [
        "arr1 = pca_8.transform(arr_img)\n",
        "clf.fit(arr1, arr_labels)\n",
        "arr_test = pca_8.transform(arr_img_test)\n",
        "pred = clf.predict(arr_test)\n",
        "correct =0\n",
        "incorrect=0\n",
        "for i in range(len(pred)):\n",
        "  if (pred[i] == arr_labels_test[i]):\n",
        "    correct+=1\n",
        "  else:\n",
        "    incorrect+=1\n",
        "acc_8=correct*100/(correct+incorrect)\n",
        "print(\"Accuracy = \"+ str(correct*100/(correct+incorrect)))"
      ],
      "metadata": {
        "colab": {
          "base_uri": "https://localhost:8080/"
        },
        "id": "LlCSV8SI9pau",
        "outputId": "f56cfd43-5a0d-4c4e-8a5b-8c0c97befe3e"
      },
      "execution_count": 74,
      "outputs": [
        {
          "output_type": "stream",
          "name": "stdout",
          "text": [
            "Accuracy = 76.04\n"
          ]
        }
      ]
    },
    {
      "cell_type": "code",
      "source": [
        "pca_3 = PCA(n_components = 3)\n",
        "pca_3.fit(arr_img)"
      ],
      "metadata": {
        "colab": {
          "base_uri": "https://localhost:8080/"
        },
        "id": "3piQ9m2h-Av1",
        "outputId": "e80aaabf-e001-4bbb-8a04-fdc77dbaf792"
      },
      "execution_count": 75,
      "outputs": [
        {
          "output_type": "execute_result",
          "data": {
            "text/plain": [
              "PCA(n_components=3)"
            ]
          },
          "metadata": {},
          "execution_count": 75
        }
      ]
    },
    {
      "cell_type": "code",
      "source": [
        "arr1 = pca_3.transform(arr_img)\n",
        "clf.fit(arr1, arr_labels)\n",
        "arr_test = pca_3.transform(arr_img_test)\n",
        "pred = clf.predict(arr_test)\n",
        "correct =0\n",
        "incorrect=0\n",
        "for i in range(len(pred)):\n",
        "  if (pred[i] == arr_labels_test[i]):\n",
        "    correct+=1\n",
        "  else:\n",
        "    incorrect+=1\n",
        "acc_3 = correct*100/(correct+incorrect)\n",
        "print(\"Accuracy = \"+ str(correct*100/(correct+incorrect)))"
      ],
      "metadata": {
        "colab": {
          "base_uri": "https://localhost:8080/"
        },
        "id": "vtxXmFHC-JAt",
        "outputId": "f145680e-ae4c-407a-97cd-3060fea6f7ea"
      },
      "execution_count": 76,
      "outputs": [
        {
          "output_type": "stream",
          "name": "stdout",
          "text": [
            "Accuracy = 46.6\n"
          ]
        }
      ]
    },
    {
      "cell_type": "code",
      "source": [
        "x_axis = [3,8,15]\n",
        "y_axis = [acc_3, acc_8, acc_15]\n",
        "plt.plot(x_axis, y_axis)\n",
        "plt.show()"
      ],
      "metadata": {
        "colab": {
          "base_uri": "https://localhost:8080/",
          "height": 265
        },
        "id": "gmR791q_-TNd",
        "outputId": "c61f75f1-b565-4a3f-b650-0a61595b09c9"
      },
      "execution_count": 77,
      "outputs": [
        {
          "output_type": "display_data",
          "data": {
            "text/plain": [
              "<Figure size 432x288 with 1 Axes>"
            ],
            "image/png": "[encoded data removed]"
          },
          "metadata": {
            "needs_background": "light"
          }
        }
      ]
    }
  ]
}